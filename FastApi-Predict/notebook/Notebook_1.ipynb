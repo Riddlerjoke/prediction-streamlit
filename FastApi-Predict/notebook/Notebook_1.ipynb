{
 "cells": [
  {
   "cell_type": "markdown",
   "id": "737735c5",
   "metadata": {},
   "source": [
    "## Notebook 1"
   ]
  },
  {
   "cell_type": "code",
   "execution_count": 1,
   "id": "f051942c",
   "metadata": {
    "ExecuteTime": {
     "end_time": "2024-02-19T10:13:10.338994800Z",
     "start_time": "2024-02-19T10:13:05.404994400Z"
    }
   },
   "outputs": [],
   "source": [
    "import numpy as np\n",
    "import pandas as pd\n",
    "from sklearn.preprocessing import LabelEncoder\n",
    "from sklearn.svm import SVC\n",
    "from sklearn import metrics\n",
    "import pickle"
   ]
  },
  {
   "cell_type": "code",
   "execution_count": 2,
   "id": "39296b1f",
   "metadata": {
    "ExecuteTime": {
     "end_time": "2024-02-19T10:13:10.394190900Z",
     "start_time": "2024-02-19T10:13:10.343999100Z"
    }
   },
   "outputs": [],
   "source": [
    "df = pd.read_csv(\"Sleep_health_and_lifestyle_dataset.csv\", on_bad_lines='skip', sep=',')"
   ]
  },
  {
   "cell_type": "code",
   "execution_count": 3,
   "id": "265e6597",
   "metadata": {
    "ExecuteTime": {
     "end_time": "2024-02-19T10:13:10.546309300Z",
     "start_time": "2024-02-19T10:13:10.373090200Z"
    }
   },
   "outputs": [
    {
     "data": {
      "text/plain": "   Person ID Gender  Age            Occupation  Sleep Duration  \\\n0          1   Male   27     Software Engineer             6.1   \n1          2   Male   28                Doctor             6.2   \n2          3   Male   28                Doctor             6.2   \n3          4   Male   28  Sales Representative             5.9   \n4          5   Male   28  Sales Representative             5.9   \n\n   Quality of Sleep  Physical Activity Level  Stress Level BMI Category  \\\n0                 6                       42             6   Overweight   \n1                 6                       60             8       Normal   \n2                 6                       60             8       Normal   \n3                 4                       30             8        Obese   \n4                 4                       30             8        Obese   \n\n  Blood Pressure  Heart Rate  Daily Steps Sleep Disorder  \n0         126/83          77         4200            NaN  \n1         125/80          75        10000            NaN  \n2         125/80          75        10000            NaN  \n3         140/90          85         3000    Sleep Apnea  \n4         140/90          85         3000    Sleep Apnea  ",
      "text/html": "<div>\n<style scoped>\n    .dataframe tbody tr th:only-of-type {\n        vertical-align: middle;\n    }\n\n    .dataframe tbody tr th {\n        vertical-align: top;\n    }\n\n    .dataframe thead th {\n        text-align: right;\n    }\n</style>\n<table border=\"1\" class=\"dataframe\">\n  <thead>\n    <tr style=\"text-align: right;\">\n      <th></th>\n      <th>Person ID</th>\n      <th>Gender</th>\n      <th>Age</th>\n      <th>Occupation</th>\n      <th>Sleep Duration</th>\n      <th>Quality of Sleep</th>\n      <th>Physical Activity Level</th>\n      <th>Stress Level</th>\n      <th>BMI Category</th>\n      <th>Blood Pressure</th>\n      <th>Heart Rate</th>\n      <th>Daily Steps</th>\n      <th>Sleep Disorder</th>\n    </tr>\n  </thead>\n  <tbody>\n    <tr>\n      <th>0</th>\n      <td>1</td>\n      <td>Male</td>\n      <td>27</td>\n      <td>Software Engineer</td>\n      <td>6.1</td>\n      <td>6</td>\n      <td>42</td>\n      <td>6</td>\n      <td>Overweight</td>\n      <td>126/83</td>\n      <td>77</td>\n      <td>4200</td>\n      <td>NaN</td>\n    </tr>\n    <tr>\n      <th>1</th>\n      <td>2</td>\n      <td>Male</td>\n      <td>28</td>\n      <td>Doctor</td>\n      <td>6.2</td>\n      <td>6</td>\n      <td>60</td>\n      <td>8</td>\n      <td>Normal</td>\n      <td>125/80</td>\n      <td>75</td>\n      <td>10000</td>\n      <td>NaN</td>\n    </tr>\n    <tr>\n      <th>2</th>\n      <td>3</td>\n      <td>Male</td>\n      <td>28</td>\n      <td>Doctor</td>\n      <td>6.2</td>\n      <td>6</td>\n      <td>60</td>\n      <td>8</td>\n      <td>Normal</td>\n      <td>125/80</td>\n      <td>75</td>\n      <td>10000</td>\n      <td>NaN</td>\n    </tr>\n    <tr>\n      <th>3</th>\n      <td>4</td>\n      <td>Male</td>\n      <td>28</td>\n      <td>Sales Representative</td>\n      <td>5.9</td>\n      <td>4</td>\n      <td>30</td>\n      <td>8</td>\n      <td>Obese</td>\n      <td>140/90</td>\n      <td>85</td>\n      <td>3000</td>\n      <td>Sleep Apnea</td>\n    </tr>\n    <tr>\n      <th>4</th>\n      <td>5</td>\n      <td>Male</td>\n      <td>28</td>\n      <td>Sales Representative</td>\n      <td>5.9</td>\n      <td>4</td>\n      <td>30</td>\n      <td>8</td>\n      <td>Obese</td>\n      <td>140/90</td>\n      <td>85</td>\n      <td>3000</td>\n      <td>Sleep Apnea</td>\n    </tr>\n  </tbody>\n</table>\n</div>"
     },
     "execution_count": 3,
     "metadata": {},
     "output_type": "execute_result"
    }
   ],
   "source": [
    "df.head()"
   ]
  },
  {
   "cell_type": "code",
   "execution_count": 4,
   "id": "06e3ebaf",
   "metadata": {
    "ExecuteTime": {
     "end_time": "2024-02-19T10:13:10.676610300Z",
     "start_time": "2024-02-19T10:13:10.446192300Z"
    }
   },
   "outputs": [
    {
     "name": "stdout",
     "output_type": "stream",
     "text": [
      "Person ID                    0\n",
      "Gender                       0\n",
      "Age                          0\n",
      "Occupation                   0\n",
      "Sleep Duration               0\n",
      "Quality of Sleep             0\n",
      "Physical Activity Level      0\n",
      "Stress Level                 0\n",
      "BMI Category                 0\n",
      "Blood Pressure               0\n",
      "Heart Rate                   0\n",
      "Daily Steps                  0\n",
      "Sleep Disorder             219\n",
      "dtype: int64\n"
     ]
    }
   ],
   "source": [
    "print(df.isnull().sum())"
   ]
  },
  {
   "cell_type": "code",
   "execution_count": 5,
   "id": "7730e1d4",
   "metadata": {
    "ExecuteTime": {
     "end_time": "2024-02-19T10:13:10.731612Z",
     "start_time": "2024-02-19T10:13:10.483309700Z"
    }
   },
   "outputs": [],
   "source": [
    "df_copy = pd.concat([df, df['Blood Pressure'].str.split('/', expand=True)], axis=1).drop(\n",
    "    'Blood Pressure', axis=1)"
   ]
  },
  {
   "cell_type": "code",
   "execution_count": 6,
   "id": "31c2a8a8",
   "metadata": {
    "ExecuteTime": {
     "end_time": "2024-02-19T10:13:11.015538400Z",
     "start_time": "2024-02-19T10:13:10.556314200Z"
    }
   },
   "outputs": [
    {
     "data": {
      "text/plain": "   Person ID Gender  Age            Occupation  Sleep Duration  \\\n0          1   Male   27     Software Engineer             6.1   \n1          2   Male   28                Doctor             6.2   \n2          3   Male   28                Doctor             6.2   \n3          4   Male   28  Sales Representative             5.9   \n4          5   Male   28  Sales Representative             5.9   \n\n   Quality of Sleep  Physical Activity Level  Stress Level BMI Category  \\\n0                 6                       42             6   Overweight   \n1                 6                       60             8       Normal   \n2                 6                       60             8       Normal   \n3                 4                       30             8        Obese   \n4                 4                       30             8        Obese   \n\n   Heart Rate  Daily Steps Sleep Disorder  BloodPressure_high  \\\n0          77         4200            NaN               126.0   \n1          75        10000            NaN               125.0   \n2          75        10000            NaN               125.0   \n3          85         3000    Sleep Apnea               140.0   \n4          85         3000    Sleep Apnea               140.0   \n\n   BloodPressure_low  \n0               83.0  \n1               80.0  \n2               80.0  \n3               90.0  \n4               90.0  ",
      "text/html": "<div>\n<style scoped>\n    .dataframe tbody tr th:only-of-type {\n        vertical-align: middle;\n    }\n\n    .dataframe tbody tr th {\n        vertical-align: top;\n    }\n\n    .dataframe thead th {\n        text-align: right;\n    }\n</style>\n<table border=\"1\" class=\"dataframe\">\n  <thead>\n    <tr style=\"text-align: right;\">\n      <th></th>\n      <th>Person ID</th>\n      <th>Gender</th>\n      <th>Age</th>\n      <th>Occupation</th>\n      <th>Sleep Duration</th>\n      <th>Quality of Sleep</th>\n      <th>Physical Activity Level</th>\n      <th>Stress Level</th>\n      <th>BMI Category</th>\n      <th>Heart Rate</th>\n      <th>Daily Steps</th>\n      <th>Sleep Disorder</th>\n      <th>BloodPressure_high</th>\n      <th>BloodPressure_low</th>\n    </tr>\n  </thead>\n  <tbody>\n    <tr>\n      <th>0</th>\n      <td>1</td>\n      <td>Male</td>\n      <td>27</td>\n      <td>Software Engineer</td>\n      <td>6.1</td>\n      <td>6</td>\n      <td>42</td>\n      <td>6</td>\n      <td>Overweight</td>\n      <td>77</td>\n      <td>4200</td>\n      <td>NaN</td>\n      <td>126.0</td>\n      <td>83.0</td>\n    </tr>\n    <tr>\n      <th>1</th>\n      <td>2</td>\n      <td>Male</td>\n      <td>28</td>\n      <td>Doctor</td>\n      <td>6.2</td>\n      <td>6</td>\n      <td>60</td>\n      <td>8</td>\n      <td>Normal</td>\n      <td>75</td>\n      <td>10000</td>\n      <td>NaN</td>\n      <td>125.0</td>\n      <td>80.0</td>\n    </tr>\n    <tr>\n      <th>2</th>\n      <td>3</td>\n      <td>Male</td>\n      <td>28</td>\n      <td>Doctor</td>\n      <td>6.2</td>\n      <td>6</td>\n      <td>60</td>\n      <td>8</td>\n      <td>Normal</td>\n      <td>75</td>\n      <td>10000</td>\n      <td>NaN</td>\n      <td>125.0</td>\n      <td>80.0</td>\n    </tr>\n    <tr>\n      <th>3</th>\n      <td>4</td>\n      <td>Male</td>\n      <td>28</td>\n      <td>Sales Representative</td>\n      <td>5.9</td>\n      <td>4</td>\n      <td>30</td>\n      <td>8</td>\n      <td>Obese</td>\n      <td>85</td>\n      <td>3000</td>\n      <td>Sleep Apnea</td>\n      <td>140.0</td>\n      <td>90.0</td>\n    </tr>\n    <tr>\n      <th>4</th>\n      <td>5</td>\n      <td>Male</td>\n      <td>28</td>\n      <td>Sales Representative</td>\n      <td>5.9</td>\n      <td>4</td>\n      <td>30</td>\n      <td>8</td>\n      <td>Obese</td>\n      <td>85</td>\n      <td>3000</td>\n      <td>Sleep Apnea</td>\n      <td>140.0</td>\n      <td>90.0</td>\n    </tr>\n  </tbody>\n</table>\n</div>"
     },
     "execution_count": 6,
     "metadata": {},
     "output_type": "execute_result"
    }
   ],
   "source": [
    "df_copy=df_copy.rename(columns={0: 'BloodPressure_high', 1: 'BloodPressure_low'})\n",
    "df_copy['BloodPressure_high'] = df_copy['BloodPressure_high'].astype(float)\n",
    "df_copy['BloodPressure_low'] = df_copy['BloodPressure_low'].astype(float)\n",
    "df_copy.head()"
   ]
  },
  {
   "cell_type": "code",
   "execution_count": 7,
   "id": "7f20aa74",
   "metadata": {
    "ExecuteTime": {
     "end_time": "2024-02-19T10:13:11.167674100Z",
     "start_time": "2024-02-19T10:13:10.672609200Z"
    }
   },
   "outputs": [],
   "source": [
    "df_copy = df_copy.copy()\n",
    "df_copy['Gender'] = LabelEncoder().fit_transform(df_copy['Gender'])\n",
    "df_copy['Occupation'] = LabelEncoder().fit_transform(df_copy['Occupation'])\n",
    "df_copy['BMI Category'] = LabelEncoder().fit_transform(df_copy['BMI Category'])\n",
    "df_copy['Sleep Disorder'] = LabelEncoder().fit_transform(df_copy['Sleep Disorder'])"
   ]
  },
  {
   "cell_type": "code",
   "execution_count": 8,
   "id": "0323262f",
   "metadata": {
    "ExecuteTime": {
     "end_time": "2024-02-19T10:13:11.210788300Z",
     "start_time": "2024-02-19T10:13:10.727611900Z"
    }
   },
   "outputs": [],
   "source": [
    "New_df_1 = df_copy[['Gender', 'Age', 'Physical Activity Level', 'Heart Rate', 'Daily Steps', 'BloodPressure_high', 'BloodPressure_low', 'Sleep Disorder']]\n",
    "New_df_2 = df_copy[['Physical Activity Level', 'Heart Rate', 'Daily Steps', 'Sleep Disorder']]"
   ]
  },
  {
   "cell_type": "code",
   "execution_count": 9,
   "id": "91d23a9a",
   "metadata": {
    "ExecuteTime": {
     "end_time": "2024-02-19T10:13:11.459916200Z",
     "start_time": "2024-02-19T10:13:10.781612600Z"
    }
   },
   "outputs": [],
   "source": [
    "X_1 = New_df_1.iloc[:,:-1] \n",
    "X_2 = New_df_2.iloc[:,:-1] \n",
    "\n",
    "y_1 = New_df_1['Sleep Disorder'] \n",
    "y_2 = New_df_2['Sleep Disorder'] \n"
   ]
  },
  {
   "cell_type": "code",
   "execution_count": 10,
   "id": "adaa16f1",
   "metadata": {
    "ExecuteTime": {
     "end_time": "2024-02-19T10:13:11.664916100Z",
     "start_time": "2024-02-19T10:13:10.846610Z"
    }
   },
   "outputs": [
    {
     "name": "stdout",
     "output_type": "stream",
     "text": [
      "0.6577540106951871\n"
     ]
    }
   ],
   "source": [
    "svm = SVC()\n",
    "svm_1 = svm.fit(X_1, y_1)\n",
    "y_pred = svm_1.predict(X_1)\n",
    "accuracy_test = metrics.accuracy_score(y_1, y_pred)\n",
    "print(accuracy_test)"
   ]
  },
  {
   "cell_type": "code",
   "execution_count": 11,
   "id": "31ed878f",
   "metadata": {
    "ExecuteTime": {
     "end_time": "2024-02-19T10:13:11.952657600Z",
     "start_time": "2024-02-19T10:13:11.010537200Z"
    }
   },
   "outputs": [
    {
     "name": "stdout",
     "output_type": "stream",
     "text": [
      "0.6577540106951871\n"
     ]
    }
   ],
   "source": [
    "svm = SVC()\n",
    "svm_2 = svm.fit(X_2, y_2)\n",
    "y_pred = svm_2.predict(X_2)\n",
    "accuracy_test = metrics.accuracy_score(y_2, y_pred)\n",
    "print(accuracy_test)"
   ]
  },
  {
   "cell_type": "code",
   "execution_count": 12,
   "id": "598b11ad",
   "metadata": {
    "ExecuteTime": {
     "end_time": "2024-02-19T10:13:11.982748300Z",
     "start_time": "2024-02-19T10:13:11.199674300Z"
    }
   },
   "outputs": [],
   "source": [
    "model_pkl_file = \"model_1.pkl\"  \n",
    "\n",
    "with open(model_pkl_file, 'wb') as file:  \n",
    "    pickle.dump(svm_1, file)"
   ]
  },
  {
   "cell_type": "code",
   "execution_count": 13,
   "id": "9a20ce6a",
   "metadata": {
    "ExecuteTime": {
     "end_time": "2024-02-19T10:13:12.019746700Z",
     "start_time": "2024-02-19T10:13:11.246790600Z"
    }
   },
   "outputs": [],
   "source": [
    "model_pkl_file = \"model_2.pkl\"  \n",
    "\n",
    "with open(model_pkl_file, 'wb') as file:  \n",
    "    pickle.dump(svm_2, file)"
   ]
  }
 ],
 "metadata": {
  "kernelspec": {
   "display_name": "Python 3 (ipykernel)",
   "language": "python",
   "name": "python3"
  },
  "language_info": {
   "codemirror_mode": {
    "name": "ipython",
    "version": 3
   },
   "file_extension": ".py",
   "mimetype": "text/x-python",
   "name": "python",
   "nbconvert_exporter": "python",
   "pygments_lexer": "ipython3",
   "version": "3.9.18"
  }
 },
 "nbformat": 4,
 "nbformat_minor": 5
}
